{
 "cells": [
  {
   "cell_type": "code",
   "execution_count": 1,
   "metadata": {},
   "outputs": [],
   "source": [
    "pragraph = \"\"\"Ajeet Vishwakarma | Generative AI Developer\n",
    "+91 8565989997 | ajeetv812@gmail.com | linkedin\n",
    "PROFESSIONAL SUMMARY\n",
    "With around 2 years of experience in Generative AI, Machine Learning and Deep Learning. Passionate about\n",
    "innovation in unlocking analytics and data's potential.\n",
    "EXPERIENCE\n",
    "HCLTech – Noida, UP\n",
    "Generative AI Developer July 2022 – Present\n",
    "Project 1:\n",
    "● Implemented Generative AI utilising the Retrieval Augmented Generation (RAG) with llamaindex (i.e. Query\n",
    "Engines) and langchain (i.e Ensemble RAG). Also performed R&D with LLAMA2/3 7B & 13B, Mistral 7B,\n",
    "Gemmi 7B LLM for multiple use cases.\n",
    "● Implemented Langchain CSV agent with OpenAI & HuggingfaceModels for Narrative Generation.\n",
    "● Used FAISS (Facebook AI Similarity Search) and chroma DB for storing vector databases.\n",
    "● Applied Python, PyTorch, and Transformers library from Hugging Face to create innovative use cases.\n",
    "● Applied prompt engineering for getting tuned response.\n",
    "Project 2:\n",
    "● PDF & Text preprocessing.\n",
    "● Develop CV parser and chatbot using hugging face open source models, traditional machine learning and\n",
    "natural language processing techniques.\n",
    "Project 3:\n",
    "● Utilised Python, OpenCV, and TensorFlow to train and deploy an Optical Character Recognition (OCR) model.\n",
    "● Implemented OCR API as a microservice and deployed in production.\n",
    "● Train an image classification model using a pretrained resnet model.\n",
    "● Bug fix support and Development.\n",
    "SKILLS\n",
    "Python, Machine Learning (ML), Natural Language Processing (NLP), Generative AI (Gen-AI), Optical Character\n",
    "Recognition (OCR) SQL, Vector Database, Django, Flask, Large Language Models (LLM), Llama, LangChain,\n",
    "LlamaIndex, Open-AI, Hugging-Face, OpenCV, NumPy, pandas, sklearn, SciPy, Matplotlib, Seaborn, PyTorch\n",
    "Internet of Things (IoT), Java, C,Linux, Windows, MS Azure, git, github, MS Office.\n",
    "ACCOMPLISHMENTS\n",
    "> Generative AI with LLMs, Coursera\n",
    "> Machine Learning Specialization, Coursera\n",
    "> Hands-On session on Python, Machine Learning\n",
    "and Computer Vision with OPEN-CV, SAIT - Indore\n",
    "> IoT WORKSHOP by RGPV, MIT-Ujjain\n",
    "> Learn to code in Python 3: Programming Beginner to\n",
    "Advanced, Udemy\n",
    "> Academy AI & ML WORKSHOP, FLUXUS IIT-Indore\n",
    "> JAVA Full Stack, PentagonSpace,Bangalore\n",
    ">Core Java, Sterling Institute-Indore\n",
    "EDUCATION\n",
    "Sri Aurobindo Institute of Technology (RGPV) – Indore MP 2018-2022\n",
    "Bachelor of Technology (Electronics And Communication Engineering) – 8.57 CGPA (Hons)\n",
    "CBSE — Azamgarh UP : Xth & XIIth 2014 - 2015 & 2016 - 2017\n",
    "Xth : 8.8 CGPA , XIIth (PCM) : 73.6%\n",
    "AWARDS / HONORS\n",
    "Above and Beyond Award- by HCLTech in FY 23 - 24\"\"\""
   ]
  },
  {
   "cell_type": "code",
   "execution_count": 4,
   "metadata": {},
   "outputs": [],
   "source": [
    "\n",
    "from nltk.corpus import stopwords"
   ]
  },
  {
   "cell_type": "code",
   "execution_count": 5,
   "metadata": {},
   "outputs": [],
   "source": [
    "import nltk\n",
    "sentances = nltk.sent_tokenize(pragraph)"
   ]
  },
  {
   "cell_type": "code",
   "execution_count": 6,
   "metadata": {},
   "outputs": [
    {
     "data": {
      "text/plain": [
       "['Ajeet Vishwakarma | Generative AI Developer\\n+91 8565989997 | ajeetv812@gmail.com | linkedin\\nPROFESSIONAL SUMMARY\\nWith around 2 years of experience in Generative AI, Machine Learning and Deep Learning.',\n",
       " \"Passionate about\\ninnovation in unlocking analytics and data's potential.\",\n",
       " 'EXPERIENCE\\nHCLTech – Noida, UP\\nGenerative AI Developer July 2022 – Present\\nProject 1:\\n● Implemented Generative AI utilising the Retrieval Augmented Generation (RAG) with llamaindex (i.e.',\n",
       " 'Query\\nEngines) and langchain (i.e Ensemble RAG).',\n",
       " 'Also performed R&D with LLAMA2/3 7B & 13B, Mistral 7B,\\nGemmi 7B LLM for multiple use cases.',\n",
       " '● Implemented Langchain CSV agent with OpenAI & HuggingfaceModels for Narrative Generation.',\n",
       " '● Used FAISS (Facebook AI Similarity Search) and chroma DB for storing vector databases.',\n",
       " '● Applied Python, PyTorch, and Transformers library from Hugging Face to create innovative use cases.',\n",
       " '● Applied prompt engineering for getting tuned response.',\n",
       " 'Project 2:\\n● PDF & Text preprocessing.',\n",
       " '● Develop CV parser and chatbot using hugging face open source models, traditional machine learning and\\nnatural language processing techniques.',\n",
       " 'Project 3:\\n● Utilised Python, OpenCV, and TensorFlow to train and deploy an Optical Character Recognition (OCR) model.',\n",
       " '● Implemented OCR API as a microservice and deployed in production.',\n",
       " '● Train an image classification model using a pretrained resnet model.',\n",
       " '● Bug fix support and Development.',\n",
       " 'SKILLS\\nPython, Machine Learning (ML), Natural Language Processing (NLP), Generative AI (Gen-AI), Optical Character\\nRecognition (OCR) SQL, Vector Database, Django, Flask, Large Language Models (LLM), Llama, LangChain,\\nLlamaIndex, Open-AI, Hugging-Face, OpenCV, NumPy, pandas, sklearn, SciPy, Matplotlib, Seaborn, PyTorch\\nInternet of Things (IoT), Java, C,Linux, Windows, MS Azure, git, github, MS Office.',\n",
       " 'ACCOMPLISHMENTS\\n> Generative AI with LLMs, Coursera\\n> Machine Learning Specialization, Coursera\\n> Hands-On session on Python, Machine Learning\\nand Computer Vision with OPEN-CV, SAIT - Indore\\n> IoT WORKSHOP by RGPV, MIT-Ujjain\\n> Learn to code in Python 3: Programming Beginner to\\nAdvanced, Udemy\\n> Academy AI & ML WORKSHOP, FLUXUS IIT-Indore\\n> JAVA Full Stack, PentagonSpace,Bangalore\\n>Core Java, Sterling Institute-Indore\\nEDUCATION\\nSri Aurobindo Institute of Technology (RGPV) – Indore MP 2018-2022\\nBachelor of Technology (Electronics And Communication Engineering) – 8.57 CGPA (Hons)\\nCBSE — Azamgarh UP : Xth & XIIth 2014 - 2015 & 2016 - 2017\\nXth : 8.8 CGPA , XIIth (PCM) : 73.6%\\nAWARDS / HONORS\\nAbove and Beyond Award- by HCLTech in FY 23 - 24']"
      ]
     },
     "execution_count": 6,
     "metadata": {},
     "output_type": "execute_result"
    }
   ],
   "source": [
    "sentances"
   ]
  },
  {
   "cell_type": "code",
   "execution_count": 7,
   "metadata": {},
   "outputs": [
    {
     "name": "stdout",
     "output_type": "stream",
     "text": [
      "[('Ajeet', 'NNP'), ('Vishwakarma', 'NNP'), ('|', 'NNP'), ('Generative', 'NNP'), ('AI', 'NNP'), ('Developer', 'NNP'), ('+91', 'VBD'), ('8565989997', 'CD'), ('|', 'NNP'), ('ajeetv812', 'NN'), ('@', 'NNP'), ('gmail.com', 'NN'), ('|', 'NNP'), ('linkedin', 'VBZ'), ('PROFESSIONAL', 'NNP'), ('SUMMARY', 'NNP'), ('With', 'IN'), ('around', 'IN'), ('2', 'CD'), ('years', 'NNS'), ('experience', 'RB'), ('Generative', 'NNP'), ('AI', 'NNP'), (',', ','), ('Machine', 'NNP'), ('Learning', 'NNP'), ('Deep', 'NNP'), ('Learning', 'NNP'), ('.', '.')]\n",
      "[('Passionate', 'NNP'), ('innovation', 'NN'), ('unlocking', 'VBG'), ('analytics', 'NNS'), ('data', 'NN'), (\"'s\", 'POS'), ('potential', 'NN'), ('.', '.')]\n",
      "[('EXPERIENCE', 'NNP'), ('HCLTech', 'NNP'), ('–', 'NNP'), ('Noida', 'NNP'), (',', ','), ('UP', 'NNP'), ('Generative', 'NNP'), ('AI', 'NNP'), ('Developer', 'NNP'), ('July', 'NNP'), ('2022', 'CD'), ('–', 'NNP'), ('Present', 'NNP'), ('Project', 'NNP'), ('1', 'CD'), (':', ':'), ('●', 'NN'), ('Implemented', 'NNP'), ('Generative', 'NNP'), ('AI', 'NNP'), ('utilising', 'VBG'), ('Retrieval', 'NNP'), ('Augmented', 'NNP'), ('Generation', 'NNP'), ('(', '('), ('RAG', 'NNP'), (')', ')'), ('llamaindex', 'NN'), ('(', '('), ('i.e', 'NN'), ('.', '.')]\n",
      "[('Query', 'NNP'), ('Engines', 'NNP'), (')', ')'), ('langchain', 'NN'), ('(', '('), ('i.e', 'JJ'), ('Ensemble', 'NNP'), ('RAG', 'NNP'), (')', ')'), ('.', '.')]\n",
      "[('Also', 'RB'), ('performed', 'VBN'), ('R', 'NNP'), ('&', 'CC'), ('D', 'NNP'), ('LLAMA2/3', 'NNP'), ('7B', 'NNP'), ('&', 'CC'), ('13B', 'CD'), (',', ','), ('Mistral', 'NNP'), ('7B', 'CD'), (',', ','), ('Gemmi', 'NNP'), ('7B', 'CD'), ('LLM', 'NNP'), ('multiple', 'NN'), ('use', 'NN'), ('cases', 'NNS'), ('.', '.')]\n",
      "[('●', 'RB'), ('Implemented', 'VBN'), ('Langchain', 'NNP'), ('CSV', 'NNP'), ('agent', 'NN'), ('OpenAI', 'NNP'), ('&', 'CC'), ('HuggingfaceModels', 'NNP'), ('Narrative', 'NNP'), ('Generation', 'NNP'), ('.', '.')]\n",
      "[('●', 'NNS'), ('Used', 'VBN'), ('FAISS', 'NNP'), ('(', '('), ('Facebook', 'NNP'), ('AI', 'NNP'), ('Similarity', 'NNP'), ('Search', 'NNP'), (')', ')'), ('chroma', 'NN'), ('DB', 'NNP'), ('storing', 'VBG'), ('vector', 'NN'), ('databases', 'NNS'), ('.', '.')]\n",
      "[('●', 'NNS'), ('Applied', 'NNP'), ('Python', 'NNP'), (',', ','), ('PyTorch', 'NNP'), (',', ','), ('Transformers', 'NNP'), ('library', 'VBP'), ('Hugging', 'VBG'), ('Face', 'NNP'), ('create', 'NN'), ('innovative', 'JJ'), ('use', 'NN'), ('cases', 'NNS'), ('.', '.')]\n",
      "[('●', 'NNS'), ('Applied', 'NNP'), ('prompt', 'NN'), ('engineering', 'NN'), ('getting', 'VBG'), ('tuned', 'VBN'), ('response', 'NN'), ('.', '.')]\n",
      "[('Project', 'NN'), ('2', 'CD'), (':', ':'), ('●', 'NN'), ('PDF', 'NNP'), ('&', 'CC'), ('Text', 'NNP'), ('preprocessing', 'NN'), ('.', '.')]\n",
      "[('●', 'NNS'), ('Develop', 'NNP'), ('CV', 'NNP'), ('parser', 'NN'), ('chatbot', 'NN'), ('using', 'VBG'), ('hugging', 'VBG'), ('face', 'NN'), ('open', 'JJ'), ('source', 'NN'), ('models', 'NNS'), (',', ','), ('traditional', 'JJ'), ('machine', 'NN'), ('learning', 'VBG'), ('natural', 'JJ'), ('language', 'NN'), ('processing', 'NN'), ('techniques', 'NNS'), ('.', '.')]\n",
      "[('Project', 'NN'), ('3', 'CD'), (':', ':'), ('●', 'NN'), ('Utilised', 'VBD'), ('Python', 'NNP'), (',', ','), ('OpenCV', 'NNP'), (',', ','), ('TensorFlow', 'NNP'), ('train', 'VBP'), ('deploy', 'JJ'), ('Optical', 'NNP'), ('Character', 'NNP'), ('Recognition', 'NNP'), ('(', '('), ('OCR', 'NNP'), (')', ')'), ('model', 'NN'), ('.', '.')]\n",
      "[('●', 'RB'), ('Implemented', 'VBN'), ('OCR', 'NNP'), ('API', 'NNP'), ('microservice', 'NN'), ('deployed', 'VBD'), ('production', 'NN'), ('.', '.')]\n",
      "[('●', 'NN'), ('Train', 'NNP'), ('image', 'NN'), ('classification', 'NN'), ('model', 'NN'), ('using', 'VBG'), ('pretrained', 'JJ'), ('resnet', 'NN'), ('model', 'NN'), ('.', '.')]\n",
      "[('●', 'NN'), ('Bug', 'NNP'), ('fix', 'VBZ'), ('support', 'NN'), ('Development', 'NNP'), ('.', '.')]\n",
      "[('SKILLS', 'NNP'), ('Python', 'NNP'), (',', ','), ('Machine', 'NNP'), ('Learning', 'NNP'), ('(', '('), ('ML', 'NNP'), (')', ')'), (',', ','), ('Natural', 'NNP'), ('Language', 'NNP'), ('Processing', 'NNP'), ('(', '('), ('NLP', 'NNP'), (')', ')'), (',', ','), ('Generative', 'NNP'), ('AI', 'NNP'), ('(', '('), ('Gen-AI', 'NNP'), (')', ')'), (',', ','), ('Optical', 'JJ'), ('Character', 'NNP'), ('Recognition', 'NNP'), ('(', '('), ('OCR', 'NNP'), (')', ')'), ('SQL', 'NNP'), (',', ','), ('Vector', 'NNP'), ('Database', 'NNP'), (',', ','), ('Django', 'NNP'), (',', ','), ('Flask', 'NNP'), (',', ','), ('Large', 'NNP'), ('Language', 'NNP'), ('Models', 'NNP'), ('(', '('), ('LLM', 'NNP'), (')', ')'), (',', ','), ('Llama', 'NNP'), (',', ','), ('LangChain', 'NNP'), (',', ','), ('LlamaIndex', 'NNP'), (',', ','), ('Open-AI', 'NNP'), (',', ','), ('Hugging-Face', 'NNP'), (',', ','), ('OpenCV', 'NNP'), (',', ','), ('NumPy', 'NNP'), (',', ','), ('pandas', 'NN'), (',', ','), ('sklearn', 'NN'), (',', ','), ('SciPy', 'NNP'), (',', ','), ('Matplotlib', 'NNP'), (',', ','), ('Seaborn', 'NNP'), (',', ','), ('PyTorch', 'NNP'), ('Internet', 'NNP'), ('Things', 'NNP'), ('(', '('), ('IoT', 'NNP'), (')', ')'), (',', ','), ('Java', 'NNP'), (',', ','), ('C', 'NNP'), (',', ','), ('Linux', 'NNP'), (',', ','), ('Windows', 'NNP'), (',', ','), ('MS', 'NNP'), ('Azure', 'NNP'), (',', ','), ('git', 'NN'), (',', ','), ('github', 'NN'), (',', ','), ('MS', 'NNP'), ('Office', 'NNP'), ('.', '.')]\n",
      "[('ACCOMPLISHMENTS', 'NNP'), ('>', 'NNP'), ('Generative', 'NNP'), ('AI', 'NNP'), ('LLMs', 'NNP'), (',', ','), ('Coursera', 'NNP'), ('>', 'NNP'), ('Machine', 'NNP'), ('Learning', 'NNP'), ('Specialization', 'NNP'), (',', ','), ('Coursera', 'NNP'), ('>', 'NNP'), ('Hands-On', 'NNP'), ('session', 'NN'), ('Python', 'NNP'), (',', ','), ('Machine', 'NNP'), ('Learning', 'NNP'), ('Computer', 'NNP'), ('Vision', 'NNP'), ('OPEN-CV', 'NNP'), (',', ','), ('SAIT', 'NNP'), ('-', ':'), ('Indore', 'NN'), ('>', 'JJ'), ('IoT', 'NNP'), ('WORKSHOP', 'NNP'), ('RGPV', 'NNP'), (',', ','), ('MIT-Ujjain', 'NNP'), ('>', 'NNP'), ('Learn', 'NNP'), ('code', 'NN'), ('Python', 'NNP'), ('3', 'CD'), (':', ':'), ('Programming', 'NN'), ('Beginner', 'NNP'), ('Advanced', 'NNP'), (',', ','), ('Udemy', 'NNP'), ('>', 'NNP'), ('Academy', 'NNP'), ('AI', 'NNP'), ('&', 'CC'), ('ML', 'NNP'), ('WORKSHOP', 'NNP'), (',', ','), ('FLUXUS', 'NNP'), ('IIT-Indore', 'NNP'), ('>', 'NNP'), ('JAVA', 'NNP'), ('Full', 'NNP'), ('Stack', 'NNP'), (',', ','), ('PentagonSpace', 'NNP'), (',', ','), ('Bangalore', 'NNP'), ('>', 'NNP'), ('Core', 'NNP'), ('Java', 'NNP'), (',', ','), ('Sterling', 'NNP'), ('Institute-Indore', 'NNP'), ('EDUCATION', 'NNP'), ('Sri', 'NNP'), ('Aurobindo', 'NNP'), ('Institute', 'NNP'), ('Technology', 'NNP'), ('(', '('), ('RGPV', 'NNP'), (')', ')'), ('–', 'VBD'), ('Indore', 'NNP'), ('MP', 'NNP'), ('2018-2022', 'JJ'), ('Bachelor', 'NNP'), ('Technology', 'NNP'), ('(', '('), ('Electronics', 'NNP'), ('And', 'CC'), ('Communication', 'NNP'), ('Engineering', 'NNP'), (')', ')'), ('–', 'VBD'), ('8.57', 'CD'), ('CGPA', 'NNP'), ('(', '('), ('Hons', 'NNP'), (')', ')'), ('CBSE', 'NNP'), ('—', 'NNP'), ('Azamgarh', 'NNP'), ('UP', 'NNP'), (':', ':'), ('Xth', 'NNP'), ('&', 'CC'), ('XIIth', 'NNP'), ('2014', 'CD'), ('-', ':'), ('2015', 'CD'), ('&', 'CC'), ('2016', 'CD'), ('-', ':'), ('2017', 'CD'), ('Xth', 'NN'), (':', ':'), ('8.8', 'CD'), ('CGPA', 'NNP'), (',', ','), ('XIIth', 'NNP'), ('(', '('), ('PCM', 'NNP'), (')', ')'), (':', ':'), ('73.6', 'CD'), ('%', 'NN'), ('AWARDS', 'NNP'), ('/', 'NNP'), ('HONORS', 'NNP'), ('Above', 'NNP'), ('Beyond', 'NNP'), ('Award-', 'NNP'), ('HCLTech', 'NNP'), ('FY', 'NNP'), ('23', 'CD'), ('-', ':'), ('24', 'CD')]\n"
     ]
    }
   ],
   "source": [
    "for i in range(len(sentances)):\n",
    "      words = nltk.word_tokenize(sentances[i])\n",
    "      words = [word for word in words if word not in set(stopwords.words(\"english\"))]\n",
    "      # sentances[i] = \" \".join(words)\n",
    "      pos_tag = nltk.pos_tag(words)\n",
    "      print(pos_tag)"
   ]
  },
  {
   "cell_type": "code",
   "execution_count": null,
   "metadata": {},
   "outputs": [],
   "source": []
  }
 ],
 "metadata": {
  "kernelspec": {
   "display_name": "pyENV",
   "language": "python",
   "name": "python3"
  },
  "language_info": {
   "codemirror_mode": {
    "name": "ipython",
    "version": 3
   },
   "file_extension": ".py",
   "mimetype": "text/x-python",
   "name": "python",
   "nbconvert_exporter": "python",
   "pygments_lexer": "ipython3",
   "version": "3.12.3"
  }
 },
 "nbformat": 4,
 "nbformat_minor": 2
}
