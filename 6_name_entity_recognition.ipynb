{
 "cells": [
  {
   "cell_type": "code",
   "execution_count": 1,
   "metadata": {},
   "outputs": [],
   "source": [
    "sentences = \"\"\"Ajeet Vishwakarma | Generative AI Developer\n",
    "+91 8565989997 | ajeetv812@gmail.com | linkedin\n",
    "PROFESSIONAL SUMMARY\n",
    "With around 2 years of experience in Generative AI, Machine Learning and Deep Learning. Passionate about\n",
    "innovation in unlocking analytics and data's potential.\n",
    "EXPERIENCE\n",
    "HCLTech – Noida, UP\n",
    "Generative AI Developer July 2022 – Present\n",
    "Sri Aurobindo Institute of Technology (RGPV) – Indore MP 2018-2022\n",
    "Bachelor of Technology (Electronics And Communication Engineering) – 8.57 CGPA (Hons)\n",
    "CBSE — Azamgarh UP : Xth & XIIth 2014 - 2015 & 2016 - 2017\n",
    "Xth : 8.8 CGPA , XIIth (PCM) : 73.6%\n",
    "AWARDS / HONORS\n",
    "Above and Beyond Award- by HCLTech in FY 23 - 24\"\"\""
   ]
  },
  {
   "cell_type": "code",
   "execution_count": 3,
   "metadata": {},
   "outputs": [],
   "source": [
    "import nltk\n",
    "words = nltk.word_tokenize(sentences)"
   ]
  },
  {
   "cell_type": "code",
   "execution_count": 4,
   "metadata": {},
   "outputs": [],
   "source": [
    "tag_elements = nltk.pos_tag(words)"
   ]
  },
  {
   "cell_type": "code",
   "execution_count": 6,
   "metadata": {},
   "outputs": [
    {
     "data": {
      "text/plain": [
       "[('Ajeet', 'NNP'),\n",
       " ('Vishwakarma', 'NNP'),\n",
       " ('|', 'NNP'),\n",
       " ('Generative', 'NNP'),\n",
       " ('AI', 'NNP'),\n",
       " ('Developer', 'NNP'),\n",
       " ('+91', 'VBD'),\n",
       " ('8565989997', 'CD'),\n",
       " ('|', 'NNP'),\n",
       " ('ajeetv812', 'NN'),\n",
       " ('@', 'NNP'),\n",
       " ('gmail.com', 'NN'),\n",
       " ('|', 'NNP'),\n",
       " ('linkedin', 'VBZ'),\n",
       " ('PROFESSIONAL', 'NNP'),\n",
       " ('SUMMARY', 'NNP'),\n",
       " ('With', 'IN'),\n",
       " ('around', 'IN'),\n",
       " ('2', 'CD'),\n",
       " ('years', 'NNS'),\n",
       " ('of', 'IN'),\n",
       " ('experience', 'NN'),\n",
       " ('in', 'IN'),\n",
       " ('Generative', 'NNP'),\n",
       " ('AI', 'NNP'),\n",
       " (',', ','),\n",
       " ('Machine', 'NNP'),\n",
       " ('Learning', 'NNP'),\n",
       " ('and', 'CC'),\n",
       " ('Deep', 'NNP'),\n",
       " ('Learning', 'NNP'),\n",
       " ('.', '.'),\n",
       " ('Passionate', 'VB'),\n",
       " ('about', 'IN'),\n",
       " ('innovation', 'NN'),\n",
       " ('in', 'IN'),\n",
       " ('unlocking', 'VBG'),\n",
       " ('analytics', 'NNS'),\n",
       " ('and', 'CC'),\n",
       " ('data', 'NN'),\n",
       " (\"'s\", 'POS'),\n",
       " ('potential', 'JJ'),\n",
       " ('.', '.'),\n",
       " ('EXPERIENCE', 'NNP'),\n",
       " ('HCLTech', 'NNP'),\n",
       " ('–', 'NNP'),\n",
       " ('Noida', 'NNP'),\n",
       " (',', ','),\n",
       " ('UP', 'NNP'),\n",
       " ('Generative', 'NNP'),\n",
       " ('AI', 'NNP'),\n",
       " ('Developer', 'NNP'),\n",
       " ('July', 'NNP'),\n",
       " ('2022', 'CD'),\n",
       " ('–', 'NNP'),\n",
       " ('Present', 'NNP'),\n",
       " ('Sri', 'NNP'),\n",
       " ('Aurobindo', 'NNP'),\n",
       " ('Institute', 'NNP'),\n",
       " ('of', 'IN'),\n",
       " ('Technology', 'NNP'),\n",
       " ('(', '('),\n",
       " ('RGPV', 'NNP'),\n",
       " (')', ')'),\n",
       " ('–', 'VBD'),\n",
       " ('Indore', 'NNP'),\n",
       " ('MP', 'NNP'),\n",
       " ('2018-2022', 'JJ'),\n",
       " ('Bachelor', 'NNP'),\n",
       " ('of', 'IN'),\n",
       " ('Technology', 'NNP'),\n",
       " ('(', '('),\n",
       " ('Electronics', 'NNP'),\n",
       " ('And', 'CC'),\n",
       " ('Communication', 'NNP'),\n",
       " ('Engineering', 'NNP'),\n",
       " (')', ')'),\n",
       " ('–', 'VBD'),\n",
       " ('8.57', 'CD'),\n",
       " ('CGPA', 'NNP'),\n",
       " ('(', '('),\n",
       " ('Hons', 'NNP'),\n",
       " (')', ')'),\n",
       " ('CBSE', 'NNP'),\n",
       " ('—', 'NNP'),\n",
       " ('Azamgarh', 'NNP'),\n",
       " ('UP', 'NNP'),\n",
       " (':', ':'),\n",
       " ('Xth', 'NNP'),\n",
       " ('&', 'CC'),\n",
       " ('XIIth', 'NNP'),\n",
       " ('2014', 'CD'),\n",
       " ('-', ':'),\n",
       " ('2015', 'CD'),\n",
       " ('&', 'CC'),\n",
       " ('2016', 'CD'),\n",
       " ('-', ':'),\n",
       " ('2017', 'CD'),\n",
       " ('Xth', 'NN'),\n",
       " (':', ':'),\n",
       " ('8.8', 'CD'),\n",
       " ('CGPA', 'NNP'),\n",
       " (',', ','),\n",
       " ('XIIth', 'NNP'),\n",
       " ('(', '('),\n",
       " ('PCM', 'NNP'),\n",
       " (')', ')'),\n",
       " (':', ':'),\n",
       " ('73.6', 'CD'),\n",
       " ('%', 'NN'),\n",
       " ('AWARDS', 'NNP'),\n",
       " ('/', 'NNP'),\n",
       " ('HONORS', 'NNP'),\n",
       " ('Above', 'NNP'),\n",
       " ('and', 'CC'),\n",
       " ('Beyond', 'NNP'),\n",
       " ('Award-', 'NNP'),\n",
       " ('by', 'IN'),\n",
       " ('HCLTech', 'NNP'),\n",
       " ('in', 'IN'),\n",
       " ('FY', 'NNP'),\n",
       " ('23', 'CD'),\n",
       " ('-', ':'),\n",
       " ('24', 'CD')]"
      ]
     },
     "execution_count": 6,
     "metadata": {},
     "output_type": "execute_result"
    }
   ],
   "source": [
    "tag_elements"
   ]
  },
  {
   "cell_type": "code",
   "execution_count": 8,
   "metadata": {},
   "outputs": [
    {
     "name": "stderr",
     "output_type": "stream",
     "text": [
      "[nltk_data] Downloading package maxent_ne_chunker to /home/ajeet-\n",
      "[nltk_data]     vishwakarma/nltk_data...\n"
     ]
    }
   ],
   "source": [
    "nltk.download('maxent_ne_chunker')"
   ]
  },
  {
   "cell_type": "code",
   "execution_count": 9,
   "metadata": {},
   "outputs": [
    {
     "name": "stderr",
     "output_type": "stream",
     "text": [
      "[nltk_data] Downloading package words to /home/ajeet-\n",
      "[nltk_data]     vishwakarma/nltk_data...\n",
      "[nltk_data]   Unzipping corpora/words.zip.\n"
     ]
    },
    {
     "data": {
      "text/plain": [
       "True"
      ]
     },
     "execution_count": 9,
     "metadata": {},
     "output_type": "execute_result"
    }
   ],
   "source": [
    "nltk.download('words')"
   ]
  },
  {
   "cell_type": "code",
   "execution_count": 10,
   "metadata": {},
   "outputs": [
    {
     "ename": "ModuleNotFoundError",
     "evalue": "No module named 'svgling'",
     "output_type": "error",
     "traceback": [
      "\u001b[0;31m---------------------------------------------------------------------------\u001b[0m",
      "\u001b[0;31mModuleNotFoundError\u001b[0m                       Traceback (most recent call last)",
      "File \u001b[0;32m~/Documents/Development/pyENV/lib/python3.12/site-packages/IPython/core/formatters.py:347\u001b[0m, in \u001b[0;36mBaseFormatter.__call__\u001b[0;34m(self, obj)\u001b[0m\n\u001b[1;32m    345\u001b[0m     method \u001b[38;5;241m=\u001b[39m get_real_method(obj, \u001b[38;5;28mself\u001b[39m\u001b[38;5;241m.\u001b[39mprint_method)\n\u001b[1;32m    346\u001b[0m     \u001b[38;5;28;01mif\u001b[39;00m method \u001b[38;5;129;01mis\u001b[39;00m \u001b[38;5;129;01mnot\u001b[39;00m \u001b[38;5;28;01mNone\u001b[39;00m:\n\u001b[0;32m--> 347\u001b[0m         \u001b[38;5;28;01mreturn\u001b[39;00m \u001b[43mmethod\u001b[49m\u001b[43m(\u001b[49m\u001b[43m)\u001b[49m\n\u001b[1;32m    348\u001b[0m     \u001b[38;5;28;01mreturn\u001b[39;00m \u001b[38;5;28;01mNone\u001b[39;00m\n\u001b[1;32m    349\u001b[0m \u001b[38;5;28;01melse\u001b[39;00m:\n",
      "File \u001b[0;32m~/Documents/Development/pyENV/lib/python3.12/site-packages/nltk/tree/tree.py:782\u001b[0m, in \u001b[0;36mTree._repr_svg_\u001b[0;34m(self)\u001b[0m\n\u001b[1;32m    781\u001b[0m \u001b[38;5;28;01mdef\u001b[39;00m \u001b[38;5;21m_repr_svg_\u001b[39m(\u001b[38;5;28mself\u001b[39m):\n\u001b[0;32m--> 782\u001b[0m     \u001b[38;5;28;01mfrom\u001b[39;00m \u001b[38;5;21;01msvgling\u001b[39;00m \u001b[38;5;28;01mimport\u001b[39;00m draw_tree\n\u001b[1;32m    784\u001b[0m     \u001b[38;5;28;01mreturn\u001b[39;00m draw_tree(\u001b[38;5;28mself\u001b[39m)\u001b[38;5;241m.\u001b[39m_repr_svg_()\n",
      "\u001b[0;31mModuleNotFoundError\u001b[0m: No module named 'svgling'"
     ]
    },
    {
     "data": {
      "text/plain": [
       "Tree('S', [Tree('PERSON', [('Ajeet', 'NNP')]), Tree('ORGANIZATION', [('Vishwakarma', 'NNP')]), ('|', 'NNP'), ('Generative', 'NNP'), ('AI', 'NNP'), Tree('PERSON', [('Developer', 'NNP')]), ('+91', 'VBD'), ('8565989997', 'CD'), ('|', 'NNP'), ('ajeetv812', 'NN'), ('@', 'NNP'), ('gmail.com', 'NN'), ('|', 'NNP'), ('linkedin', 'VBZ'), Tree('ORGANIZATION', [('PROFESSIONAL', 'NNP')]), ('SUMMARY', 'NNP'), ('With', 'IN'), ('around', 'IN'), ('2', 'CD'), ('years', 'NNS'), ('of', 'IN'), ('experience', 'NN'), ('in', 'IN'), Tree('ORGANIZATION', [('Generative', 'NNP')]), ('AI', 'NNP'), (',', ','), Tree('PERSON', [('Machine', 'NNP'), ('Learning', 'NNP')]), ('and', 'CC'), Tree('PERSON', [('Deep', 'NNP'), ('Learning', 'NNP')]), ('.', '.'), ('Passionate', 'VB'), ('about', 'IN'), ('innovation', 'NN'), ('in', 'IN'), ('unlocking', 'VBG'), ('analytics', 'NNS'), ('and', 'CC'), ('data', 'NN'), (\"'s\", 'POS'), ('potential', 'JJ'), ('.', '.'), Tree('ORGANIZATION', [('EXPERIENCE', 'NNP')]), ('HCLTech', 'NNP'), ('–', 'NNP'), ('Noida', 'NNP'), (',', ','), Tree('ORGANIZATION', [('UP', 'NNP'), ('Generative', 'NNP')]), ('AI', 'NNP'), ('Developer', 'NNP'), ('July', 'NNP'), ('2022', 'CD'), ('–', 'NNP'), ('Present', 'NNP'), ('Sri', 'NNP'), ('Aurobindo', 'NNP'), ('Institute', 'NNP'), ('of', 'IN'), Tree('GPE', [('Technology', 'NNP')]), ('(', '('), Tree('ORGANIZATION', [('RGPV', 'NNP')]), (')', ')'), ('–', 'VBD'), Tree('GPE', [('Indore', 'NNP')]), ('MP', 'NNP'), ('2018-2022', 'JJ'), ('Bachelor', 'NNP'), ('of', 'IN'), Tree('GPE', [('Technology', 'NNP')]), ('(', '('), Tree('ORGANIZATION', [('Electronics', 'NNP'), ('And', 'CC'), ('Communication', 'NNP')]), ('Engineering', 'NNP'), (')', ')'), ('–', 'VBD'), ('8.57', 'CD'), ('CGPA', 'NNP'), ('(', '('), Tree('GPE', [('Hons', 'NNP')]), (')', ')'), Tree('ORGANIZATION', [('CBSE', 'NNP')]), ('—', 'NNP'), ('Azamgarh', 'NNP'), ('UP', 'NNP'), (':', ':'), ('Xth', 'NNP'), ('&', 'CC'), Tree('ORGANIZATION', [('XIIth', 'NNP')]), ('2014', 'CD'), ('-', ':'), ('2015', 'CD'), ('&', 'CC'), ('2016', 'CD'), ('-', ':'), ('2017', 'CD'), ('Xth', 'NN'), (':', ':'), ('8.8', 'CD'), Tree('ORGANIZATION', [('CGPA', 'NNP')]), (',', ','), Tree('ORGANIZATION', [('XIIth', 'NNP')]), ('(', '('), Tree('ORGANIZATION', [('PCM', 'NNP')]), (')', ')'), (':', ':'), ('73.6', 'CD'), ('%', 'NN'), Tree('ORGANIZATION', [('AWARDS', 'NNP')]), ('/', 'NNP'), ('HONORS', 'NNP'), ('Above', 'NNP'), ('and', 'CC'), Tree('PERSON', [('Beyond', 'NNP')]), ('Award-', 'NNP'), ('by', 'IN'), Tree('ORGANIZATION', [('HCLTech', 'NNP')]), ('in', 'IN'), ('FY', 'NNP'), ('23', 'CD'), ('-', ':'), ('24', 'CD')])"
      ]
     },
     "execution_count": 10,
     "metadata": {},
     "output_type": "execute_result"
    }
   ],
   "source": [
    "nltk.ne_chunk(tag_elements)"
   ]
  },
  {
   "cell_type": "code",
   "execution_count": 11,
   "metadata": {},
   "outputs": [
    {
     "name": "stderr",
     "output_type": "stream",
     "text": [
      "/home/ajeet-vishwakarma/Documents/Development/pyENV/lib/python3.12/site-packages/nltk/draw/__init__.py:15: UserWarning: nltk.draw package not loaded (please install Tkinter library).\n",
      "  warnings.warn(\"nltk.draw package not loaded (please install Tkinter library).\")\n"
     ]
    },
    {
     "ename": "ModuleNotFoundError",
     "evalue": "No module named 'tkinter'",
     "output_type": "error",
     "traceback": [
      "\u001b[0;31m---------------------------------------------------------------------------\u001b[0m",
      "\u001b[0;31mModuleNotFoundError\u001b[0m                       Traceback (most recent call last)",
      "Cell \u001b[0;32mIn[11], line 1\u001b[0m\n\u001b[0;32m----> 1\u001b[0m \u001b[43mnltk\u001b[49m\u001b[38;5;241;43m.\u001b[39;49m\u001b[43mne_chunk\u001b[49m\u001b[43m(\u001b[49m\u001b[43mtag_elements\u001b[49m\u001b[43m)\u001b[49m\u001b[38;5;241;43m.\u001b[39;49m\u001b[43mdraw\u001b[49m\u001b[43m(\u001b[49m\u001b[43m)\u001b[49m\n",
      "File \u001b[0;32m~/Documents/Development/pyENV/lib/python3.12/site-packages/nltk/tree/tree.py:759\u001b[0m, in \u001b[0;36mTree.draw\u001b[0;34m(self)\u001b[0m\n\u001b[1;32m    755\u001b[0m \u001b[38;5;28;01mdef\u001b[39;00m \u001b[38;5;21mdraw\u001b[39m(\u001b[38;5;28mself\u001b[39m):\n\u001b[1;32m    756\u001b[0m \u001b[38;5;250m    \u001b[39m\u001b[38;5;124;03m\"\"\"\u001b[39;00m\n\u001b[1;32m    757\u001b[0m \u001b[38;5;124;03m    Open a new window containing a graphical diagram of this tree.\u001b[39;00m\n\u001b[1;32m    758\u001b[0m \u001b[38;5;124;03m    \"\"\"\u001b[39;00m\n\u001b[0;32m--> 759\u001b[0m     \u001b[38;5;28;01mfrom\u001b[39;00m \u001b[38;5;21;01mnltk\u001b[39;00m\u001b[38;5;21;01m.\u001b[39;00m\u001b[38;5;21;01mdraw\u001b[39;00m\u001b[38;5;21;01m.\u001b[39;00m\u001b[38;5;21;01mtree\u001b[39;00m \u001b[38;5;28;01mimport\u001b[39;00m draw_trees\n\u001b[1;32m    761\u001b[0m     draw_trees(\u001b[38;5;28mself\u001b[39m)\n",
      "File \u001b[0;32m~/Documents/Development/pyENV/lib/python3.12/site-packages/nltk/draw/tree.py:12\u001b[0m\n\u001b[1;32m      1\u001b[0m \u001b[38;5;66;03m# Natural Language Toolkit: Graphical Representations for Trees\u001b[39;00m\n\u001b[1;32m      2\u001b[0m \u001b[38;5;66;03m#\u001b[39;00m\n\u001b[1;32m      3\u001b[0m \u001b[38;5;66;03m# Copyright (C) 2001-2023 NLTK Project\u001b[39;00m\n\u001b[1;32m      4\u001b[0m \u001b[38;5;66;03m# Author: Edward Loper <edloper@gmail.com>\u001b[39;00m\n\u001b[1;32m      5\u001b[0m \u001b[38;5;66;03m# URL: <https://www.nltk.org/>\u001b[39;00m\n\u001b[1;32m      6\u001b[0m \u001b[38;5;66;03m# For license information, see LICENSE.TXT\u001b[39;00m\n\u001b[1;32m      8\u001b[0m \u001b[38;5;124;03m\"\"\"\u001b[39;00m\n\u001b[1;32m      9\u001b[0m \u001b[38;5;124;03mGraphically display a Tree.\u001b[39;00m\n\u001b[1;32m     10\u001b[0m \u001b[38;5;124;03m\"\"\"\u001b[39;00m\n\u001b[0;32m---> 12\u001b[0m \u001b[38;5;28;01mfrom\u001b[39;00m \u001b[38;5;21;01mtkinter\u001b[39;00m \u001b[38;5;28;01mimport\u001b[39;00m IntVar, Menu, Tk\n\u001b[1;32m     14\u001b[0m \u001b[38;5;28;01mfrom\u001b[39;00m \u001b[38;5;21;01mnltk\u001b[39;00m\u001b[38;5;21;01m.\u001b[39;00m\u001b[38;5;21;01mdraw\u001b[39;00m\u001b[38;5;21;01m.\u001b[39;00m\u001b[38;5;21;01mutil\u001b[39;00m \u001b[38;5;28;01mimport\u001b[39;00m (\n\u001b[1;32m     15\u001b[0m     BoxWidget,\n\u001b[1;32m     16\u001b[0m     CanvasFrame,\n\u001b[0;32m   (...)\u001b[0m\n\u001b[1;32m     20\u001b[0m     TextWidget,\n\u001b[1;32m     21\u001b[0m )\n\u001b[1;32m     22\u001b[0m \u001b[38;5;28;01mfrom\u001b[39;00m \u001b[38;5;21;01mnltk\u001b[39;00m\u001b[38;5;21;01m.\u001b[39;00m\u001b[38;5;21;01mtree\u001b[39;00m \u001b[38;5;28;01mimport\u001b[39;00m Tree\n",
      "\u001b[0;31mModuleNotFoundError\u001b[0m: No module named 'tkinter'"
     ]
    }
   ],
   "source": [
    "nltk.ne_chunk(tag_elements).draw()"
   ]
  },
  {
   "cell_type": "code",
   "execution_count": null,
   "metadata": {},
   "outputs": [],
   "source": []
  }
 ],
 "metadata": {
  "kernelspec": {
   "display_name": "pyENV",
   "language": "python",
   "name": "python3"
  },
  "language_info": {
   "codemirror_mode": {
    "name": "ipython",
    "version": 3
   },
   "file_extension": ".py",
   "mimetype": "text/x-python",
   "name": "python",
   "nbconvert_exporter": "python",
   "pygments_lexer": "ipython3",
   "version": "3.12.3"
  }
 },
 "nbformat": 4,
 "nbformat_minor": 2
}
