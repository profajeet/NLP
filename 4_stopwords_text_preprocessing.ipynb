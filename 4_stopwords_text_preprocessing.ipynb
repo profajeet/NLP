{
 "cells": [
  {
   "cell_type": "code",
   "execution_count": 2,
   "metadata": {},
   "outputs": [],
   "source": [
    "pragraph = \"\"\"Ajeet Vishwakarma | Generative AI Developer\n",
    "+91 8565989997 | ajeetv812@gmail.com | linkedin\n",
    "PROFESSIONAL SUMMARY\n",
    "With around 2 years of experience in Generative AI, Machine Learning and Deep Learning. Passionate about\n",
    "innovation in unlocking analytics and data's potential.\n",
    "EXPERIENCE\n",
    "HCLTech – Noida, UP\n",
    "Generative AI Developer July 2022 – Present\n",
    "Project 1:\n",
    "● Implemented Generative AI utilising the Retrieval Augmented Generation (RAG) with llamaindex (i.e. Query\n",
    "Engines) and langchain (i.e Ensemble RAG). Also performed R&D with LLAMA2/3 7B & 13B, Mistral 7B,\n",
    "Gemmi 7B LLM for multiple use cases.\n",
    "● Implemented Langchain CSV agent with OpenAI & HuggingfaceModels for Narrative Generation.\n",
    "● Used FAISS (Facebook AI Similarity Search) and chroma DB for storing vector databases.\n",
    "● Applied Python, PyTorch, and Transformers library from Hugging Face to create innovative use cases.\n",
    "● Applied prompt engineering for getting tuned response.\n",
    "Project 2:\n",
    "● PDF & Text preprocessing.\n",
    "● Develop CV parser and chatbot using hugging face open source models, traditional machine learning and\n",
    "natural language processing techniques.\n",
    "Project 3:\n",
    "● Utilised Python, OpenCV, and TensorFlow to train and deploy an Optical Character Recognition (OCR) model.\n",
    "● Implemented OCR API as a microservice and deployed in production.\n",
    "● Train an image classification model using a pretrained resnet model.\n",
    "● Bug fix support and Development.\n",
    "SKILLS\n",
    "Python, Machine Learning (ML), Natural Language Processing (NLP), Generative AI (Gen-AI), Optical Character\n",
    "Recognition (OCR) SQL, Vector Database, Django, Flask, Large Language Models (LLM), Llama, LangChain,\n",
    "LlamaIndex, Open-AI, Hugging-Face, OpenCV, NumPy, pandas, sklearn, SciPy, Matplotlib, Seaborn, PyTorch\n",
    "Internet of Things (IoT), Java, C,Linux, Windows, MS Azure, git, github, MS Office.\n",
    "ACCOMPLISHMENTS\n",
    "> Generative AI with LLMs, Coursera\n",
    "> Machine Learning Specialization, Coursera\n",
    "> Hands-On session on Python, Machine Learning\n",
    "and Computer Vision with OPEN-CV, SAIT - Indore\n",
    "> IoT WORKSHOP by RGPV, MIT-Ujjain\n",
    "> Learn to code in Python 3: Programming Beginner to\n",
    "Advanced, Udemy\n",
    "> Academy AI & ML WORKSHOP, FLUXUS IIT-Indore\n",
    "> JAVA Full Stack, PentagonSpace,Bangalore\n",
    ">Core Java, Sterling Institute-Indore\n",
    "EDUCATION\n",
    "Sri Aurobindo Institute of Technology (RGPV) – Indore MP 2018-2022\n",
    "Bachelor of Technology (Electronics And Communication Engineering) – 8.57 CGPA (Hons)\n",
    "CBSE — Azamgarh UP : Xth & XIIth 2014 - 2015 & 2016 - 2017\n",
    "Xth : 8.8 CGPA , XIIth (PCM) : 73.6%\n",
    "AWARDS / HONORS\n",
    "Above and Beyond Award- by HCLTech in FY 23 - 24\"\"\""
   ]
  },
  {
   "cell_type": "code",
   "execution_count": 1,
   "metadata": {},
   "outputs": [],
   "source": [
    "from nltk.stem import PorterStemmer"
   ]
  },
  {
   "cell_type": "code",
   "execution_count": 3,
   "metadata": {},
   "outputs": [],
   "source": [
    "from nltk.corpus import stopwords"
   ]
  },
  {
   "cell_type": "code",
   "execution_count": 4,
   "metadata": {},
   "outputs": [
    {
     "name": "stderr",
     "output_type": "stream",
     "text": [
      "[nltk_data] Downloading package stopwords to /home/ajeet-\n",
      "[nltk_data]     vishwakarma/nltk_data...\n",
      "[nltk_data]   Unzipping corpora/stopwords.zip.\n"
     ]
    },
    {
     "data": {
      "text/plain": [
       "True"
      ]
     },
     "execution_count": 4,
     "metadata": {},
     "output_type": "execute_result"
    }
   ],
   "source": [
    "import nltk\n",
    "nltk.download(\"stopwords\")"
   ]
  },
  {
   "cell_type": "code",
   "execution_count": 6,
   "metadata": {},
   "outputs": [
    {
     "data": {
      "text/plain": [
       "['i',\n",
       " 'me',\n",
       " 'my',\n",
       " 'myself',\n",
       " 'we',\n",
       " 'our',\n",
       " 'ours',\n",
       " 'ourselves',\n",
       " 'you',\n",
       " \"you're\",\n",
       " \"you've\",\n",
       " \"you'll\",\n",
       " \"you'd\",\n",
       " 'your',\n",
       " 'yours',\n",
       " 'yourself',\n",
       " 'yourselves',\n",
       " 'he',\n",
       " 'him',\n",
       " 'his',\n",
       " 'himself',\n",
       " 'she',\n",
       " \"she's\",\n",
       " 'her',\n",
       " 'hers',\n",
       " 'herself',\n",
       " 'it',\n",
       " \"it's\",\n",
       " 'its',\n",
       " 'itself',\n",
       " 'they',\n",
       " 'them',\n",
       " 'their',\n",
       " 'theirs',\n",
       " 'themselves',\n",
       " 'what',\n",
       " 'which',\n",
       " 'who',\n",
       " 'whom',\n",
       " 'this',\n",
       " 'that',\n",
       " \"that'll\",\n",
       " 'these',\n",
       " 'those',\n",
       " 'am',\n",
       " 'is',\n",
       " 'are',\n",
       " 'was',\n",
       " 'were',\n",
       " 'be',\n",
       " 'been',\n",
       " 'being',\n",
       " 'have',\n",
       " 'has',\n",
       " 'had',\n",
       " 'having',\n",
       " 'do',\n",
       " 'does',\n",
       " 'did',\n",
       " 'doing',\n",
       " 'a',\n",
       " 'an',\n",
       " 'the',\n",
       " 'and',\n",
       " 'but',\n",
       " 'if',\n",
       " 'or',\n",
       " 'because',\n",
       " 'as',\n",
       " 'until',\n",
       " 'while',\n",
       " 'of',\n",
       " 'at',\n",
       " 'by',\n",
       " 'for',\n",
       " 'with',\n",
       " 'about',\n",
       " 'against',\n",
       " 'between',\n",
       " 'into',\n",
       " 'through',\n",
       " 'during',\n",
       " 'before',\n",
       " 'after',\n",
       " 'above',\n",
       " 'below',\n",
       " 'to',\n",
       " 'from',\n",
       " 'up',\n",
       " 'down',\n",
       " 'in',\n",
       " 'out',\n",
       " 'on',\n",
       " 'off',\n",
       " 'over',\n",
       " 'under',\n",
       " 'again',\n",
       " 'further',\n",
       " 'then',\n",
       " 'once',\n",
       " 'here',\n",
       " 'there',\n",
       " 'when',\n",
       " 'where',\n",
       " 'why',\n",
       " 'how',\n",
       " 'all',\n",
       " 'any',\n",
       " 'both',\n",
       " 'each',\n",
       " 'few',\n",
       " 'more',\n",
       " 'most',\n",
       " 'other',\n",
       " 'some',\n",
       " 'such',\n",
       " 'no',\n",
       " 'nor',\n",
       " 'not',\n",
       " 'only',\n",
       " 'own',\n",
       " 'same',\n",
       " 'so',\n",
       " 'than',\n",
       " 'too',\n",
       " 'very',\n",
       " 's',\n",
       " 't',\n",
       " 'can',\n",
       " 'will',\n",
       " 'just',\n",
       " 'don',\n",
       " \"don't\",\n",
       " 'should',\n",
       " \"should've\",\n",
       " 'now',\n",
       " 'd',\n",
       " 'll',\n",
       " 'm',\n",
       " 'o',\n",
       " 're',\n",
       " 've',\n",
       " 'y',\n",
       " 'ain',\n",
       " 'aren',\n",
       " \"aren't\",\n",
       " 'couldn',\n",
       " \"couldn't\",\n",
       " 'didn',\n",
       " \"didn't\",\n",
       " 'doesn',\n",
       " \"doesn't\",\n",
       " 'hadn',\n",
       " \"hadn't\",\n",
       " 'hasn',\n",
       " \"hasn't\",\n",
       " 'haven',\n",
       " \"haven't\",\n",
       " 'isn',\n",
       " \"isn't\",\n",
       " 'ma',\n",
       " 'mightn',\n",
       " \"mightn't\",\n",
       " 'mustn',\n",
       " \"mustn't\",\n",
       " 'needn',\n",
       " \"needn't\",\n",
       " 'shan',\n",
       " \"shan't\",\n",
       " 'shouldn',\n",
       " \"shouldn't\",\n",
       " 'wasn',\n",
       " \"wasn't\",\n",
       " 'weren',\n",
       " \"weren't\",\n",
       " 'won',\n",
       " \"won't\",\n",
       " 'wouldn',\n",
       " \"wouldn't\"]"
      ]
     },
     "execution_count": 6,
     "metadata": {},
     "output_type": "execute_result"
    }
   ],
   "source": [
    "stopwords.words('english')"
   ]
  },
  {
   "cell_type": "code",
   "execution_count": 7,
   "metadata": {},
   "outputs": [],
   "source": [
    "stemmer = PorterStemmer()"
   ]
  },
  {
   "cell_type": "code",
   "execution_count": 19,
   "metadata": {},
   "outputs": [],
   "source": [
    "sentances = nltk.sent_tokenize(pragraph)"
   ]
  },
  {
   "cell_type": "code",
   "execution_count": 9,
   "metadata": {},
   "outputs": [
    {
     "data": {
      "text/plain": [
       "['Ajeet Vishwakarma | Generative AI Developer\\n+91 8565989997 | ajeetv812@gmail.com | linkedin\\nPROFESSIONAL SUMMARY\\nWith around 2 years of experience in Generative AI, Machine Learning and Deep Learning.',\n",
       " \"Passionate about\\ninnovation in unlocking analytics and data's potential.\",\n",
       " 'EXPERIENCE\\nHCLTech – Noida, UP\\nGenerative AI Developer July 2022 – Present\\nProject 1:\\n● Implemented Generative AI utilising the Retrieval Augmented Generation (RAG) with llamaindex (i.e.',\n",
       " 'Query\\nEngines) and langchain (i.e Ensemble RAG).',\n",
       " 'Also performed R&D with LLAMA2/3 7B & 13B, Mistral 7B,\\nGemmi 7B LLM for multiple use cases.',\n",
       " '● Implemented Langchain CSV agent with OpenAI & HuggingfaceModels for Narrative Generation.',\n",
       " '● Used FAISS (Facebook AI Similarity Search) and chroma DB for storing vector databases.',\n",
       " '● Applied Python, PyTorch, and Transformers library from Hugging Face to create innovative use cases.',\n",
       " '● Applied prompt engineering for getting tuned response.',\n",
       " 'Project 2:\\n● PDF & Text preprocessing.',\n",
       " '● Develop CV parser and chatbot using hugging face open source models, traditional machine learning and\\nnatural language processing techniques.',\n",
       " 'Project 3:\\n● Utilised Python, OpenCV, and TensorFlow to train and deploy an Optical Character Recognition (OCR) model.',\n",
       " '● Implemented OCR API as a microservice and deployed in production.',\n",
       " '● Train an image classification model using a pretrained resnet model.',\n",
       " '● Bug fix support and Development.',\n",
       " 'SKILLS\\nPython, Machine Learning (ML), Natural Language Processing (NLP), Generative AI (Gen-AI), Optical Character\\nRecognition (OCR) SQL, Vector Database, Django, Flask, Large Language Models (LLM), Llama, LangChain,\\nLlamaIndex, Open-AI, Hugging-Face, OpenCV, NumPy, pandas, sklearn, SciPy, Matplotlib, Seaborn, PyTorch\\nInternet of Things (IoT), Java, C,Linux, Windows, MS Azure, git, github, MS Office.',\n",
       " 'ACCOMPLISHMENTS\\n> Generative AI with LLMs, Coursera\\n> Machine Learning Specialization, Coursera\\n> Hands-On session on Python, Machine Learning\\nand Computer Vision with OPEN-CV, SAIT - Indore\\n> IoT WORKSHOP by RGPV, MIT-Ujjain\\n> Learn to code in Python 3: Programming Beginner to\\nAdvanced, Udemy\\n> Academy AI & ML WORKSHOP, FLUXUS IIT-Indore\\n> JAVA Full Stack, PentagonSpace,Bangalore\\n>Core Java, Sterling Institute-Indore\\nEDUCATION\\nSri Aurobindo Institute of Technology (RGPV) – Indore MP 2018-2022\\nBachelor of Technology (Electronics And Communication Engineering) – 8.57 CGPA (Hons)\\nCBSE — Azamgarh UP : Xth & XIIth 2014 - 2015 & 2016 - 2017\\nXth : 8.8 CGPA , XIIth (PCM) : 73.6%\\nAWARDS / HONORS\\nAbove and Beyond Award- by HCLTech in FY 23 - 24']"
      ]
     },
     "execution_count": 9,
     "metadata": {},
     "output_type": "execute_result"
    }
   ],
   "source": [
    "sentances"
   ]
  },
  {
   "cell_type": "code",
   "execution_count": 10,
   "metadata": {},
   "outputs": [],
   "source": [
    "for i in range(len(sentances)):\n",
    "      words = nltk.word_tokenize(sentances[i])\n",
    "      words = [stemmer.stem(word) for word in words if word not in set(stopwords.words(\"english\"))]\n",
    "      sentances[i] = \" \".join(words)"
   ]
  },
  {
   "cell_type": "code",
   "execution_count": 11,
   "metadata": {},
   "outputs": [
    {
     "data": {
      "text/plain": [
       "['ajeet vishwakarma | gener ai develop +91 8565989997 | ajeetv812 @ gmail.com | linkedin profession summari with around 2 year experi gener ai , machin learn deep learn .',\n",
       " \"passion innov unlock analyt data 's potenti .\",\n",
       " 'experi hcltech – noida , up gener ai develop juli 2022 – present project 1 : ● implement gener ai utilis retriev augment gener ( rag ) llamaindex ( i.e .',\n",
       " 'queri engin ) langchain ( i.e ensembl rag ) .',\n",
       " 'also perform r & d llama2/3 7b & 13b , mistral 7b , gemmi 7b llm multipl use case .',\n",
       " '● implement langchain csv agent openai & huggingfacemodel narr gener .',\n",
       " '● use faiss ( facebook ai similar search ) chroma db store vector databas .',\n",
       " '● appli python , pytorch , transform librari hug face creat innov use case .',\n",
       " '● appli prompt engin get tune respons .',\n",
       " 'project 2 : ● pdf & text preprocess .',\n",
       " '● develop cv parser chatbot use hug face open sourc model , tradit machin learn natur languag process techniqu .',\n",
       " 'project 3 : ● utilis python , opencv , tensorflow train deploy optic charact recognit ( ocr ) model .',\n",
       " '● implement ocr api microservic deploy product .',\n",
       " '● train imag classif model use pretrain resnet model .',\n",
       " '● bug fix support develop .',\n",
       " 'skill python , machin learn ( ml ) , natur languag process ( nlp ) , gener ai ( gen-ai ) , optic charact recognit ( ocr ) sql , vector databas , django , flask , larg languag model ( llm ) , llama , langchain , llamaindex , open-ai , hugging-fac , opencv , numpi , panda , sklearn , scipi , matplotlib , seaborn , pytorch internet thing ( iot ) , java , c , linux , window , ms azur , git , github , ms offic .',\n",
       " 'accomplish > gener ai llm , coursera > machin learn special , coursera > hands-on session python , machin learn comput vision open-cv , sait - indor > iot workshop rgpv , mit-ujjain > learn code python 3 : program beginn advanc , udemi > academi ai & ml workshop , fluxu iit-indor > java full stack , pentagonspac , bangalor > core java , sterl institute-indor educ sri aurobindo institut technolog ( rgpv ) – indor mp 2018-2022 bachelor technolog ( electron and commun engin ) – 8.57 cgpa ( hon ) cbse — azamgarh up : xth & xiith 2014 - 2015 & 2016 - 2017 xth : 8.8 cgpa , xiith ( pcm ) : 73.6 % award / honor abov beyond award- hcltech fy 23 - 24']"
      ]
     },
     "execution_count": 11,
     "metadata": {},
     "output_type": "execute_result"
    }
   ],
   "source": [
    "sentances"
   ]
  },
  {
   "cell_type": "code",
   "execution_count": 16,
   "metadata": {},
   "outputs": [],
   "source": [
    "from nltk import SnowballStemmer\n",
    "snowball = SnowballStemmer('english')"
   ]
  },
  {
   "cell_type": "code",
   "execution_count": 20,
   "metadata": {},
   "outputs": [],
   "source": [
    "for i in range(len(sentances)):\n",
    "      words = nltk.word_tokenize(sentances[i])\n",
    "      words = [snowball.stem(word) for word in words if word not in set(stopwords.words(\"english\"))]\n",
    "      sentances[i] = \" \".join(words)"
   ]
  },
  {
   "cell_type": "code",
   "execution_count": 21,
   "metadata": {},
   "outputs": [
    {
     "data": {
      "text/plain": [
       "['ajeet vishwakarma | generat ai develop +91 8565989997 | ajeetv812 @ gmail.com | linkedin profession summari with around 2 year experi generat ai , machin learn deep learn .',\n",
       " \"passion innov unlock analyt data 's potenti .\",\n",
       " 'experi hcltech – noida , up generat ai develop juli 2022 – present project 1 : ● implement generat ai utilis retriev augment generat ( rag ) llamaindex ( i.e .',\n",
       " 'queri engin ) langchain ( i.e ensembl rag ) .',\n",
       " 'also perform r & d llama2/3 7b & 13b , mistral 7b , gemmi 7b llm multipl use case .',\n",
       " '● implement langchain csv agent openai & huggingfacemodel narrat generat .',\n",
       " '● use faiss ( facebook ai similar search ) chroma db store vector databas .',\n",
       " '● appli python , pytorch , transform librari hug face creat innov use case .',\n",
       " '● appli prompt engin get tune respons .',\n",
       " 'project 2 : ● pdf & text preprocess .',\n",
       " '● develop cv parser chatbot use hug face open sourc model , tradit machin learn natur languag process techniqu .',\n",
       " 'project 3 : ● utilis python , opencv , tensorflow train deploy optic charact recognit ( ocr ) model .',\n",
       " '● implement ocr api microservic deploy product .',\n",
       " '● train imag classif model use pretrain resnet model .',\n",
       " '● bug fix support develop .',\n",
       " 'skill python , machin learn ( ml ) , natur languag process ( nlp ) , generat ai ( gen-ai ) , optic charact recognit ( ocr ) sql , vector databas , django , flask , larg languag model ( llm ) , llama , langchain , llamaindex , open-ai , hugging-fac , opencv , numpi , panda , sklearn , scipi , matplotlib , seaborn , pytorch internet thing ( iot ) , java , c , linux , window , ms azur , git , github , ms offic .',\n",
       " 'accomplish > generat ai llms , coursera > machin learn special , coursera > hands-on session python , machin learn comput vision open-cv , sait - indor > iot workshop rgpv , mit-ujjain > learn code python 3 : program beginn advanc , udemi > academi ai & ml workshop , fluxus iit-indor > java full stack , pentagonspac , bangalor > core java , sterl institute-indor educ sri aurobindo institut technolog ( rgpv ) – indor mp 2018-2022 bachelor technolog ( electron and communic engin ) – 8.57 cgpa ( hon ) cbse — azamgarh up : xth & xiith 2014 - 2015 & 2016 - 2017 xth : 8.8 cgpa , xiith ( pcm ) : 73.6 % award / honor abov beyond award- hcltech fy 23 - 24']"
      ]
     },
     "execution_count": 21,
     "metadata": {},
     "output_type": "execute_result"
    }
   ],
   "source": [
    "sentances"
   ]
  },
  {
   "cell_type": "code",
   "execution_count": null,
   "metadata": {},
   "outputs": [],
   "source": []
  }
 ],
 "metadata": {
  "kernelspec": {
   "display_name": "pyENV",
   "language": "python",
   "name": "python3"
  },
  "language_info": {
   "codemirror_mode": {
    "name": "ipython",
    "version": 3
   },
   "file_extension": ".py",
   "mimetype": "text/x-python",
   "name": "python",
   "nbconvert_exporter": "python",
   "pygments_lexer": "ipython3",
   "version": "3.12.3"
  }
 },
 "nbformat": 4,
 "nbformat_minor": 2
}
