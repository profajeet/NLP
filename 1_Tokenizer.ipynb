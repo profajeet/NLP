{
 "cells": [
  {
   "cell_type": "code",
   "execution_count": 1,
   "metadata": {},
   "outputs": [
    {
     "name": "stdout",
     "output_type": "stream",
     "text": [
      "Requirement already satisfied: nltk in /home/ajeet-vishwakarma/Documents/Development/pyENV/lib/python3.12/site-packages (3.8.1)\n",
      "Requirement already satisfied: click in /home/ajeet-vishwakarma/Documents/Development/pyENV/lib/python3.12/site-packages (from nltk) (8.1.7)\n",
      "Requirement already satisfied: joblib in /home/ajeet-vishwakarma/Documents/Development/pyENV/lib/python3.12/site-packages (from nltk) (1.4.2)\n",
      "Requirement already satisfied: regex>=2021.8.3 in /home/ajeet-vishwakarma/Documents/Development/pyENV/lib/python3.12/site-packages (from nltk) (2024.5.15)\n",
      "Requirement already satisfied: tqdm in /home/ajeet-vishwakarma/Documents/Development/pyENV/lib/python3.12/site-packages (from nltk) (4.66.4)\n"
     ]
    }
   ],
   "source": [
    "!pip install nltk"
   ]
  },
  {
   "cell_type": "code",
   "execution_count": 8,
   "metadata": {},
   "outputs": [],
   "source": [
    "corpus = \"\"\"\n",
    "Hello, I am ajeet vishwakarma. I am Gen AI engineer.\n",
    "With around 2 years of experience in Generative AI, Machine Learning and Deep Learning. Passionate about innovation in unlocking analytics and data's potential.\n",
    "\"\"\""
   ]
  },
  {
   "cell_type": "code",
   "execution_count": 9,
   "metadata": {},
   "outputs": [
    {
     "data": {
      "text/plain": [
       "\"\\nHello, I am ajeet vishwakarma. I am Gen AI engineer.\\nWith around 2 years of experience in Generative AI, Machine Learning and Deep Learning. Passionate about innovation in unlocking analytics and data's potential.\\n\""
      ]
     },
     "execution_count": 9,
     "metadata": {},
     "output_type": "execute_result"
    }
   ],
   "source": [
    "corpus"
   ]
  },
  {
   "cell_type": "code",
   "execution_count": 10,
   "metadata": {},
   "outputs": [],
   "source": [
    "from nltk.tokenize import sent_tokenize"
   ]
  },
  {
   "cell_type": "code",
   "execution_count": 11,
   "metadata": {},
   "outputs": [
    {
     "data": {
      "text/plain": [
       "['\\nHello, I am ajeet vishwakarma.',\n",
       " 'I am Gen AI engineer.',\n",
       " 'With around 2 years of experience in Generative AI, Machine Learning and Deep Learning.',\n",
       " \"Passionate about innovation in unlocking analytics and data's potential.\"]"
      ]
     },
     "execution_count": 11,
     "metadata": {},
     "output_type": "execute_result"
    }
   ],
   "source": [
    "st = sent_tokenize(corpus)\n",
    "st"
   ]
  },
  {
   "cell_type": "code",
   "execution_count": 12,
   "metadata": {},
   "outputs": [],
   "source": [
    "from nltk.tokenize import word_tokenize"
   ]
  },
  {
   "cell_type": "code",
   "execution_count": 14,
   "metadata": {},
   "outputs": [
    {
     "data": {
      "text/plain": [
       "['Hello',\n",
       " ',',\n",
       " 'I',\n",
       " 'am',\n",
       " 'ajeet',\n",
       " 'vishwakarma',\n",
       " '.',\n",
       " 'I',\n",
       " 'am',\n",
       " 'Gen',\n",
       " 'AI',\n",
       " 'engineer',\n",
       " '.',\n",
       " 'With',\n",
       " 'around',\n",
       " '2',\n",
       " 'years',\n",
       " 'of',\n",
       " 'experience',\n",
       " 'in',\n",
       " 'Generative',\n",
       " 'AI',\n",
       " ',',\n",
       " 'Machine',\n",
       " 'Learning',\n",
       " 'and',\n",
       " 'Deep',\n",
       " 'Learning',\n",
       " '.',\n",
       " 'Passionate',\n",
       " 'about',\n",
       " 'innovation',\n",
       " 'in',\n",
       " 'unlocking',\n",
       " 'analytics',\n",
       " 'and',\n",
       " 'data',\n",
       " \"'s\",\n",
       " 'potential',\n",
       " '.']"
      ]
     },
     "execution_count": 14,
     "metadata": {},
     "output_type": "execute_result"
    }
   ],
   "source": [
    "word_tokenize(corpus)"
   ]
  },
  {
   "cell_type": "code",
   "execution_count": 15,
   "metadata": {},
   "outputs": [
    {
     "data": {
      "text/plain": [
       "['Hello',\n",
       " ',',\n",
       " 'I',\n",
       " 'am',\n",
       " 'ajeet',\n",
       " 'vishwakarma',\n",
       " '.',\n",
       " 'I',\n",
       " 'am',\n",
       " 'Gen',\n",
       " 'AI',\n",
       " 'engineer',\n",
       " '.',\n",
       " 'With',\n",
       " 'around',\n",
       " '2',\n",
       " 'years',\n",
       " 'of',\n",
       " 'experience',\n",
       " 'in',\n",
       " 'Generative',\n",
       " 'AI',\n",
       " ',',\n",
       " 'Machine',\n",
       " 'Learning',\n",
       " 'and',\n",
       " 'Deep',\n",
       " 'Learning',\n",
       " '.',\n",
       " 'Passionate',\n",
       " 'about',\n",
       " 'innovation',\n",
       " 'in',\n",
       " 'unlocking',\n",
       " 'analytics',\n",
       " 'and',\n",
       " 'data',\n",
       " \"'\",\n",
       " 's',\n",
       " 'potential',\n",
       " '.']"
      ]
     },
     "execution_count": 15,
     "metadata": {},
     "output_type": "execute_result"
    }
   ],
   "source": [
    "from nltk.tokenize import wordpunct_tokenize\n",
    "wordpunct_tokenize(corpus)"
   ]
  },
  {
   "cell_type": "code",
   "execution_count": 16,
   "metadata": {},
   "outputs": [
    {
     "data": {
      "text/plain": [
       "['Hello',\n",
       " ',',\n",
       " 'I',\n",
       " 'am',\n",
       " 'ajeet',\n",
       " 'vishwakarma.',\n",
       " 'I',\n",
       " 'am',\n",
       " 'Gen',\n",
       " 'AI',\n",
       " 'engineer.',\n",
       " 'With',\n",
       " 'around',\n",
       " '2',\n",
       " 'years',\n",
       " 'of',\n",
       " 'experience',\n",
       " 'in',\n",
       " 'Generative',\n",
       " 'AI',\n",
       " ',',\n",
       " 'Machine',\n",
       " 'Learning',\n",
       " 'and',\n",
       " 'Deep',\n",
       " 'Learning.',\n",
       " 'Passionate',\n",
       " 'about',\n",
       " 'innovation',\n",
       " 'in',\n",
       " 'unlocking',\n",
       " 'analytics',\n",
       " 'and',\n",
       " 'data',\n",
       " \"'s\",\n",
       " 'potential',\n",
       " '.']"
      ]
     },
     "execution_count": 16,
     "metadata": {},
     "output_type": "execute_result"
    }
   ],
   "source": [
    "from nltk.tokenize import TreebankWordTokenizer\n",
    "tokenizer = TreebankWordTokenizer()\n",
    "tokenizer.tokenize(corpus)"
   ]
  },
  {
   "cell_type": "code",
   "execution_count": null,
   "metadata": {},
   "outputs": [],
   "source": []
  }
 ],
 "metadata": {
  "kernelspec": {
   "display_name": "pyENV",
   "language": "python",
   "name": "python3"
  },
  "language_info": {
   "codemirror_mode": {
    "name": "ipython",
    "version": 3
   },
   "file_extension": ".py",
   "mimetype": "text/x-python",
   "name": "python",
   "nbconvert_exporter": "python",
   "pygments_lexer": "ipython3",
   "version": "3.12.3"
  }
 },
 "nbformat": 4,
 "nbformat_minor": 2
}
